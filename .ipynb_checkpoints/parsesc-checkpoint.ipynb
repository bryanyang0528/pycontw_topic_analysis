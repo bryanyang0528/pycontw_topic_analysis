{
 "cells": [
  {
   "cell_type": "code",
   "execution_count": 1,
   "metadata": {
    "collapsed": true
   },
   "outputs": [],
   "source": [
    "import csv\n",
    "import requests\n",
    "from bs4 import BeautifulSoup\n",
    "\n",
    "import sys\n",
    "\n",
    "schedule = open(\"sc.html\", 'r').read()\n"
   ]
  },
  {
   "cell_type": "code",
   "execution_count": 2,
   "metadata": {
    "collapsed": false
   },
   "outputs": [],
   "source": [
    "from lxml.html import fromstring\n",
    "from bs4 import UnicodeDammit\n",
    "dammit = UnicodeDammit(schedule)\n",
    "doc = fromstring(dammit.unicode_markup)\n",
    "\n",
    "xpath = '''/html/body/div//table[@class='tablesaw tablesaw-stack pycon-table']//div[@class='title']/a'''\n",
    "xpath_speaker = '''/html/body/div//table[@class='tablesaw tablesaw-stack pycon-table']//div[@class='speaker']'''\n",
    "\n",
    "titles = doc.xpath(xpath)\n",
    "links = doc.xpath(xpath+'/@href')\n",
    "speakers = doc.xpath(xpath_speaker)\n",
    "\n"
   ]
  },
  {
   "cell_type": "code",
   "execution_count": 3,
   "metadata": {
    "collapsed": false
   },
   "outputs": [
    {
     "name": "stdout",
     "output_type": "stream",
     "text": [
      "Openstack Swift Benchmark with Ansible /2015apac/zh/program/12 Charles Hsu\n",
      "....when thinking functionally with Python /2015apac/zh/program/27 Apua Juan\n",
      "Easy Map Applications Using Python /2015apac/zh/program/63 Victor Gau\n",
      "Python Debugger Uncovered /2015apac/zh/program/39 Dmitry Trofimov\n",
      " Coding Ninja (by pytest) /2015apac/zh/program/83 Chun-Yu Tseng\n",
      "Happy rapid prototyping embedded assembly by Python: My Experience /2015apac/zh/program/32 Albert Huang\n",
      "Programmatic Debugging with GDB and Python /2015apac/zh/program/104 Scott Tsai\n",
      "ZoneIDAProc: Instrumentation-based Dynamic Accessing /2015apac/zh/program/53 Tzung-Bi Shih\n",
      "Orchestrating the execution of workflows for media streaming service and even more /2015apac/zh/program/92 Shuen-Huei Guan\n",
      "The Future of GUI Programming with Python /2015apac/zh/program/18 Tzu-ping Chung\n",
      "Future Development of PyCON in Asia Pacific /2015apac/zh/program/78 Sammy Fung\n",
      "  Django app  /2015apac/zh/program/16 Tim Hsu\n",
      "RPyScan /2015apac/zh/program/56 Melvin Foo Hannie Ching  Tan Le Xuan\n",
      "Network Security and Analysis with Python  /2015apac/zh/program/52 Lee Yang Peng\n",
      "Tagtoo Task Manager /2015apac/zh/program/80 Chien Hsun Chen\n",
      "MMO Game Server Design with Twisted Python /2015apac/zh/program/25 Dan Maas\n",
      "Millions way to avoid overfitting when building a portfolio  /2015apac/zh/program/91 Chia-Yi Yen\n",
      "How to scale up your Web Apps/Sites written by Python? /2015apac/zh/program/89 Theon Lin\n",
      " IPython Notebook  /2015apac/zh/program/42 Tzer-jen Wei\n",
      "Global Interpreter Lock: Episode I - Break the Seal /2015apac/zh/program/41 Tzung-Bi Shih\n",
      "Liquid crystal device simulation with Python /2015apac/zh/program/73 Zong-han Xie\n",
      "Building a Scalable Python gRPC Service using Kubernetes /2015apac/zh/program/65 Ian Lewis\n",
      "Python & LLVM /2015apac/zh/program/74 枫 李\n",
      "Data Analysis in Wearable Technologies /2015apac/zh/program/97 Jennifer Ma\n",
      "Easy contributable internationalization process with Sphinx /2015apac/zh/program/50 Takayuki Shimizukawa\n",
      "Python  /2015apac/zh/program/76 Yuchi Lin\n",
      "Information extraction with Python /2015apac/zh/program/61 jiawei chen\n",
      "How to build a recommendation system with python /2015apac/zh/program/101 Chia-Chi Chang\n",
      " /2015apac/zh/program/58 Chao-Kai Chang\n",
      "Marsface Project: Detecting Pseudo-artificial Structures on Mars /2015apac/zh/program/71 Hideki Tanaka\n",
      "How developers are building applications on the cloud /2015apac/zh/program/111 Angus Ip, Ben Cheng\n",
      "ceph  /2015apac/zh/program/37 高 國棟\n",
      "for physics in blender:   (or, what light looks like) /2015apac/zh/program/72 David Mikolas\n",
      "Python HDF5 Use Case /2015apac/zh/program/24 Liang Bo Wang\n",
      "Click Fraud Detection in the Mobile Advertising Using Python /2015apac/zh/program/110 伯任 許\n",
      "Sentiment Analysis by NLTK /2015apac/zh/program/79 Wei-Ting Kuo\n",
      "Play Data, Play Ball! /2015apac/zh/program/103 Summit Suen\n",
      " / Happy Together: Designer and Programmer /2015apac/zh/program/95 TsungWei Hu\n",
      "The Implementation of Rubik's Cube Formula in PyCuber /2015apac/zh/program/99 Adrian Liaw\n",
      "Kernel-mapper (Tool to simplify the use of PyOpenCL) /2015apac/zh/program/48 Kilik Kuo\n",
      "Python /2015apac/zh/program/102 Ko-Lung Yuan\n",
      "Gandi CLI /2015apac/zh/program/108 Thomas Kuiper\n",
      "Sphinx autodoc: automated API documentation /2015apac/zh/program/69 Takayuki Shimizukawa\n",
      "Machine learning in Finance using Python /2015apac/zh/program/20 Eric Tham\n",
      "Building Static Blogs using Pelican /2015apac/zh/program/14 Quazi Nafiul Islam\n"
     ]
    }
   ],
   "source": [
    "test_array = []\n",
    "\n",
    "fieldnames = ['title', 'link', 'speaker']\n",
    "test_file = open('data/sc.csv','w')\n",
    "csvwriter = csv.DictWriter(test_file, delimiter=',', fieldnames=fieldnames)\n",
    "csvwriter.writerow(dict((fn,fn) for fn in fieldnames))\n",
    "for title , link  , speaker in  zip(titles, links,speakers)  :\n",
    "#     link = 'https://tw.pycon.org/'  +  link\n",
    "    row = {'title':  title.text.encode('utf-8','ignore'), 'link': link , 'speaker': speaker.text.strip().encode('utf-8','ignore') }\n",
    "    csvwriter.writerow(row)\n",
    "    print title.text.encode('ascii','ignore') + ' ' + link + ' ' + speaker.text.strip()\n",
    "\n",
    "test_file.close()\n",
    "\n",
    "\n",
    "\n",
    "\n"
   ]
  },
  {
   "cell_type": "code",
   "execution_count": null,
   "metadata": {
    "collapsed": true
   },
   "outputs": [],
   "source": []
  }
 ],
 "metadata": {
  "kernelspec": {
   "display_name": "Python 2",
   "language": "python",
   "name": "python2"
  },
  "language_info": {
   "codemirror_mode": {
    "name": "ipython",
    "version": 2
   },
   "file_extension": ".py",
   "mimetype": "text/x-python",
   "name": "python",
   "nbconvert_exporter": "python",
   "pygments_lexer": "ipython2",
   "version": "2.7.6"
  }
 },
 "nbformat": 4,
 "nbformat_minor": 0
}
